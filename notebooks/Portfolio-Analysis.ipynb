{
 "cells": [
  {
   "cell_type": "code",
   "execution_count": 1,
   "id": "e60bfcbb",
   "metadata": {},
   "outputs": [],
   "source": [
    "import pandas as pd\n",
    "import numpy as np\n",
    "import datetime as dt\n",
    "\n",
    "from pandas_datareader import data as pdr\n",
    "import yfinance as yfin\n",
    "from IPython.display import clear_output\n",
    "\n",
    "yfin.pdr_override()"
   ]
  },
  {
   "cell_type": "code",
   "execution_count": 13,
   "id": "fe8c65b8",
   "metadata": {},
   "outputs": [],
   "source": [
    "def find_ath(ticker):\n",
    "    df = pdr.get_data_yahoo(ticker, start=\"2000-01-01\", end=\"2023-05-31\")\n",
    "    clear_output(wait=True)\n",
    "    return np.max(df['Adj Close'])"
   ]
  },
  {
   "cell_type": "code",
   "execution_count": 16,
   "id": "051ced26",
   "metadata": {},
   "outputs": [],
   "source": [
    "def find_y2d_ret(ticker):\n",
    "    df = pdr.get_data_yahoo(ticker, start=\"2023-01-01\", end=\"2023-05-31\")\n",
    "    clear_output(wait=True)\n",
    "    old = df['Adj Close'].iloc[0]\n",
    "    new = df['Adj Close'].iloc[-1]\n",
    "    return old, new"
   ]
  },
  {
   "cell_type": "code",
   "execution_count": 19,
   "id": "aeac6acc",
   "metadata": {},
   "outputs": [],
   "source": [
    "tickers = [\"AAPL\", \"MSFT\", \"AMZN\", \"NVDA\", \"GOOG\", \"META\",  \"TSLA\", \"UNH\", \"XOM\", \"JNJ\", \"JPM\", \"V\", \"PG\", \"AVGO\", \"MA\", \"MRK\", \"PEP\", \"COST\", \"CRM\", \"MCD\", \"WMT\", \"AMD\", \"BAC\", \"NFLX\", \"VZ\", \"RTX\", \"QCOM\", \"IBM\", \"AMGN\", \"BA\", \"SBUX\", \"GS\", \"MS\", \"NOW\", \"TGT\", \"NOC\", \"FDX\", \"OXY\"]"
   ]
  },
  {
   "cell_type": "code",
   "execution_count": 17,
   "id": "85eea559",
   "metadata": {},
   "outputs": [],
   "source": [
    "def find_prices(tickers):\n",
    "    output = {}\n",
    "    for ticker in tickers:\n",
    "        ath = find_ath(ticker)\n",
    "        old, new = find_y2d_ret(ticker)\n",
    "        output[ticker] = (ath, old, new)\n",
    "    return output"
   ]
  },
  {
   "cell_type": "code",
   "execution_count": 20,
   "id": "45b05151",
   "metadata": {},
   "outputs": [
    {
     "name": "stdout",
     "output_type": "stream",
     "text": [
      "[*********************100%***********************]  1 of 1 completed\n"
     ]
    }
   ],
   "source": [
    "results = find_prices(tickers)"
   ]
  },
  {
   "cell_type": "code",
   "execution_count": 21,
   "id": "9d50aa55",
   "metadata": {},
   "outputs": [
    {
     "data": {
      "text/plain": [
       "{'AAPL': (180.43429565429688, 124.70683288574219, 177.3000030517578),\n",
       " 'MSFT': (338.3359375, 238.4601287841797, 331.2099914550781),\n",
       " 'AMZN': (186.57049560546875, 85.81999969482422, 121.66000366210938),\n",
       " 'NVDA': (401.1099853515625, 143.1256866455078, 401.1099853515625),\n",
       " 'GOOG': (150.70899963378906, 89.69999694824219, 124.63999938964844),\n",
       " 'META': (382.17999267578125, 124.73999786376953, 262.5199890136719),\n",
       " 'TSLA': (409.9700012207031, 108.0999984741211, 201.16000366210938),\n",
       " 'UNH': (551.479736328125, 516.79931640625, 479.8500061035156),\n",
       " 'XOM': (117.32194519042969, 104.78739929199219, 104.04000091552734),\n",
       " 'JNJ': (179.75254821777344, 175.5926971435547, 154.3699951171875),\n",
       " 'JPM': (164.01576232910156, 133.0847930908203, 137.4600067138672),\n",
       " 'V': (247.3025360107422, 206.5818328857422, 221.63999938964844),\n",
       " 'PG': (159.20980834960938, 149.6876678466797, 143.17999267578125),\n",
       " 'AVGO': (812.72998046875, 549.5247802734375, 803.3400268554688),\n",
       " 'MA': (393.698974609375, 345.6957092285156, 367.5),\n",
       " 'MRK': (118.37999725341797, 110.37265014648438, 109.16999816894531),\n",
       " 'PEP': (196.1199951171875, 178.2057647705078, 181.61000061035156),\n",
       " 'COST': (602.6160888671875, 451.5505065917969, 508.0299987792969),\n",
       " 'CRM': (309.9599914550781, 134.77999877929688, 218.8699951171875),\n",
       " 'MCD': (298.07000732421875, 262.81256103515625, 284.9200134277344),\n",
       " 'WMT': (156.76412963867188, 142.47262573242188, 146.05999755859375),\n",
       " 'AMD': (161.91000366210938, 64.0199966430664, 125.2699966430664),\n",
       " 'BAC': (47.94542694091797, 33.29405975341797, 28.260000228881836),\n",
       " 'NFLX': (691.6900024414062, 294.95001220703125, 392.9800109863281),\n",
       " 'VZ': (54.23345184326172, 38.85598373413086, 34.900001525878906),\n",
       " 'RTX': (104.02057647705078, 99.64582061767578, 92.81999969482422),\n",
       " 'QCOM': (184.15411376953125, 106.54914093017578, 116.0),\n",
       " 'IBM': (146.74205017089844, 137.95135498046875, 129.47999572753906),\n",
       " 'AMGN': (285.1608581542969, 256.9384765625, 218.52999877929688),\n",
       " 'BA': (430.29998779296875, 195.38999938964844, 204.69000244140625),\n",
       " 'SBUX': (120.91983795166016, 99.83019256591797, 97.75),\n",
       " 'GS': (407.86676025390625, 343.75860595703125, 330.8299865722656),\n",
       " 'MS': (104.0187759399414, 84.30400848388672, 83.41999816894531),\n",
       " 'NOW': (701.72998046875, 385.5, 549.1199951171875),\n",
       " 'TGT': (257.5008544921875, 149.77035522460938, 133.83999633789062),\n",
       " 'NOC': (542.8522338867188, 536.044921875, 438.1600036621094),\n",
       " 'FDX': (304.8759460449219, 176.28909301757812, 226.13999938964844),\n",
       " 'OXY': (75.62096405029297, 60.87318801879883, 58.59000015258789)}"
      ]
     },
     "execution_count": 21,
     "metadata": {},
     "output_type": "execute_result"
    }
   ],
   "source": [
    "results"
   ]
  },
  {
   "cell_type": "code",
   "execution_count": 26,
   "id": "84798e6e",
   "metadata": {},
   "outputs": [
    {
     "name": "stdout",
     "output_type": "stream",
     "text": [
      "AAPL \t 1.7371   42.1734\n",
      "MSFT \t 2.1062   38.8953\n",
      "AMZN \t 34.7914   41.7618\n",
      "NVDA \t 0.0   180.2502\n",
      "GOOG \t 17.2976   38.9521\n",
      "META \t 31.3099   110.4537\n",
      "TSLA \t 50.933   86.087\n",
      "UNH \t 12.9886   -7.1496\n",
      "XOM \t 11.3209   -0.7133\n",
      "JNJ \t 14.1208   -12.0863\n",
      "JPM \t 16.191   3.2875\n",
      "V \t 10.377   7.2892\n",
      "PG \t 10.0684   -4.3475\n",
      "AVGO \t 1.1554   46.1881\n",
      "MA \t 6.6546   6.3074\n",
      "MRK \t 7.78   -1.0896\n",
      "PEP \t 7.3985   1.9103\n",
      "COST \t 15.6959   12.5079\n",
      "CRM \t 29.3877   62.3906\n",
      "MCD \t 4.4117   8.4119\n",
      "WMT \t 6.8282   2.5179\n",
      "AMD \t 22.6299   95.6732\n",
      "BAC \t 41.058   -15.12\n",
      "NFLX \t 43.1855   33.2361\n",
      "VZ \t 35.6486   -10.1811\n",
      "RTX \t 10.7677   -6.8501\n",
      "QCOM \t 37.0093   8.87\n",
      "IBM \t 11.7635   -6.1408\n",
      "AMGN \t 23.3661   -14.9485\n",
      "BA \t 52.4309   4.7597\n",
      "SBUX \t 19.1613   -2.0837\n",
      "GS \t 18.8877   -3.761\n",
      "MS \t 19.8029   -1.0486\n",
      "NOW \t 21.7477   42.4436\n",
      "TGT \t 48.0235   -10.6365\n",
      "NOC \t 19.2856   -18.2606\n",
      "FDX \t 25.8256   28.2779\n",
      "OXY \t 22.5215   -3.7507\n"
     ]
    }
   ],
   "source": [
    "for ticker in results:\n",
    "    percent_left = round(100*(results[ticker][0] - results[ticker][2])/results[ticker][0], 4)\n",
    "    percent_done = round(100 * (results[ticker][2]-results[ticker][1])/results[ticker][1], 4)\n",
    "    print(ticker, \"\\t\", percent_left, \" \", percent_done)"
   ]
  },
  {
   "cell_type": "code",
   "execution_count": 27,
   "id": "ece76c64",
   "metadata": {},
   "outputs": [],
   "source": [
    "fang = [\"AAPL\", \"MSFT\", \"AMZN\", \"NVDA\", \"META\", \"TSLA\", \"NOW\", \"GS\", \"JPM\", \"AVGO\", \"IBM\", \"QCOM\", \"MRK\", \"CRM\", \"NFLX\"]"
   ]
  },
  {
   "cell_type": "code",
   "execution_count": 32,
   "id": "254a782d",
   "metadata": {},
   "outputs": [],
   "source": [
    "percents = {}\n",
    "for ticker in fang:\n",
    "    percent_left = round(100*(results[ticker][0] - results[ticker][2])/results[ticker][0], 4)\n",
    "    percent_done = round(100 * (results[ticker][2]-results[ticker][1])/results[ticker][1], 4)\n",
    "    percents[ticker] = [percent_left, percent_done]"
   ]
  },
  {
   "cell_type": "code",
   "execution_count": 33,
   "id": "890a2f4c",
   "metadata": {},
   "outputs": [
    {
     "data": {
      "text/plain": [
       "{'AAPL': [1.7371, 42.1734],\n",
       " 'MSFT': [2.1062, 38.8953],\n",
       " 'AMZN': [34.7914, 41.7618],\n",
       " 'NVDA': [0.0, 180.2502],\n",
       " 'META': [31.3099, 110.4537],\n",
       " 'TSLA': [50.933, 86.087],\n",
       " 'NOW': [21.7477, 42.4436],\n",
       " 'GS': [18.8877, -3.761],\n",
       " 'JPM': [16.191, 3.2875],\n",
       " 'AVGO': [1.1554, 46.1881],\n",
       " 'IBM': [11.7635, -6.1408],\n",
       " 'QCOM': [37.0093, 8.87],\n",
       " 'MRK': [7.78, -1.0896],\n",
       " 'CRM': [29.3877, 62.3906],\n",
       " 'NFLX': [43.1855, 33.2361]}"
      ]
     },
     "execution_count": 33,
     "metadata": {},
     "output_type": "execute_result"
    }
   ],
   "source": [
    "percents"
   ]
  },
  {
   "cell_type": "code",
   "execution_count": 36,
   "id": "419d44fb",
   "metadata": {},
   "outputs": [],
   "source": [
    "A = sum([percents[k][0] for k in fang])\n",
    "for k in fang:\n",
    "    percents[k].append(round(100*percents[k][0]/A, 2))"
   ]
  },
  {
   "cell_type": "code",
   "execution_count": 37,
   "id": "6bab9283",
   "metadata": {},
   "outputs": [
    {
     "data": {
      "text/plain": [
       "{'AAPL': [1.7371, 42.1734, 0.005640202425179896, 0.56],\n",
       " 'MSFT': [2.1062, 38.8953, 0.006838635857414021, 0.68],\n",
       " 'AMZN': [34.7914, 41.7618, 0.11296444571723208, 11.3],\n",
       " 'NVDA': [0.0, 180.2502, 0.0, 0.0],\n",
       " 'META': [31.3099, 110.4537, 0.10166033844461458, 10.17],\n",
       " 'TSLA': [50.933, 86.087, 0.16537472230826528, 16.54],\n",
       " 'NOW': [21.7477, 42.4436, 0.07061276281278268, 7.06],\n",
       " 'GS': [18.8877, -3.761, 0.06132660833922647, 6.13],\n",
       " 'JPM': [16.191, 3.2875, 0.052570673804667366, 5.26],\n",
       " 'AVGO': [1.1554, 46.1881, 0.0037514765310303674, 0.38],\n",
       " 'IBM': [11.7635, -6.1408, 0.03819499236002746, 3.82],\n",
       " 'QCOM': [37.0093, 8.87, 0.12016576110426017, 12.02],\n",
       " 'MRK': [7.78, -1.0896, 0.025260937693799775, 2.53],\n",
       " 'CRM': [29.3877, 62.3906, 0.0954191335043804, 9.54],\n",
       " 'NFLX': [43.1855, 33.2361, 0.14021930909711955, 14.02]}"
      ]
     },
     "execution_count": 37,
     "metadata": {},
     "output_type": "execute_result"
    }
   ],
   "source": [
    "percents"
   ]
  },
  {
   "cell_type": "code",
   "execution_count": null,
   "id": "f2cf2acc",
   "metadata": {},
   "outputs": [],
   "source": []
  }
 ],
 "metadata": {
  "kernelspec": {
   "display_name": "Python 3 (ipykernel)",
   "language": "python",
   "name": "python3"
  },
  "language_info": {
   "codemirror_mode": {
    "name": "ipython",
    "version": 3
   },
   "file_extension": ".py",
   "mimetype": "text/x-python",
   "name": "python",
   "nbconvert_exporter": "python",
   "pygments_lexer": "ipython3",
   "version": "3.10.9"
  }
 },
 "nbformat": 4,
 "nbformat_minor": 5
}
