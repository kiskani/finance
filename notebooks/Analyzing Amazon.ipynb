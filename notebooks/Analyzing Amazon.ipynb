{
 "cells": [
  {
   "cell_type": "markdown",
   "metadata": {},
   "source": [
    "2019 10-K Form:\n",
    "https://www.sec.gov/ix?doc=/Archives/edgar/data/1018724/000101872420000004/amzn-20191231x10k.htm"
   ]
  },
  {
   "cell_type": "code",
   "execution_count": 2,
   "metadata": {},
   "outputs": [],
   "source": [
    "data = dict()\n",
    "data[2019] = dict()\n",
    "data[2018] = dict()\n",
    "data[2017] = dict()\n",
    "data[2016] = dict()\n",
    "data[2015] = dict()"
   ]
  },
  {
   "cell_type": "markdown",
   "metadata": {},
   "source": [
    "Aggregate market value of voting stock held by non-affiliates of the registrant as of June 30, 2019"
   ]
  },
  {
   "cell_type": "code",
   "execution_count": 3,
   "metadata": {},
   "outputs": [],
   "source": [
    "data[2019][\"non_affiliate_market_value\"] = 786284080955"
   ]
  },
  {
   "cell_type": "markdown",
   "metadata": {},
   "source": [
    "Number of shares of common stock outstanding as of January 22, 2020"
   ]
  },
  {
   "cell_type": "code",
   "execution_count": 4,
   "metadata": {},
   "outputs": [],
   "source": [
    "data[2019][\"nu_common_stock_shares\"] = 497810444"
   ]
  },
  {
   "cell_type": "code",
   "execution_count": 5,
   "metadata": {},
   "outputs": [],
   "source": [
    "data[2019][\"net_sales\"] = 280522 * 1e6\n",
    "data[2018][\"net_sales\"] = 232887 * 1e6\n",
    "data[2017][\"net_sales\"] = 177866 * 1e6\n",
    "data[2016][\"net_sales\"] = 135987 * 1e6\n",
    "data[2015][\"net_sales\"] = 107006 * 1e6"
   ]
  },
  {
   "cell_type": "code",
   "execution_count": 6,
   "metadata": {},
   "outputs": [],
   "source": [
    "data[2019][\"operating_income\"] = 14541 * 1e6\n",
    "data[2018][\"operating_income\"] = 12421 * 1e6\n",
    "data[2017][\"operating_income\"] = 4106 * 1e6\n",
    "data[2016][\"operating_income\"] = 4186 * 1e6\n",
    "data[2015][\"operating_income\"] = 2233 * 1e6"
   ]
  },
  {
   "cell_type": "code",
   "execution_count": 7,
   "metadata": {},
   "outputs": [],
   "source": [
    "data[2019][\"net_income\"] = 11588 * 1e6\n",
    "data[2018][\"net_income\"] = 10073 * 1e6\n",
    "data[2017][\"net_income\"] = 3033 * 1e6\n",
    "data[2016][\"net_income\"] = 2371 * 1e6\n",
    "data[2015][\"net_income\"] = 596 * 1e6"
   ]
  },
  {
   "cell_type": "code",
   "execution_count": 8,
   "metadata": {},
   "outputs": [],
   "source": [
    "data[2019][\"basic_eps\"] = 23.46\n",
    "data[2018][\"basic_eps\"] = 20.68\n",
    "data[2017][\"basic_eps\"] = 6.32 \n",
    "data[2016][\"basic_eps\"] = 5.01\n",
    "data[2015][\"basic_eps\"] = 1.28"
   ]
  },
  {
   "cell_type": "code",
   "execution_count": 9,
   "metadata": {},
   "outputs": [],
   "source": [
    "data[2019][\"diluted_eps\"] = 23.01\n",
    "data[2018][\"diluted_eps\"] = 20.14\n",
    "data[2017][\"diluted_eps\"] = 6.15 \n",
    "data[2016][\"diluted_eps\"] = 4.90\n",
    "data[2015][\"diluted_eps\"] = 1.25"
   ]
  },
  {
   "cell_type": "code",
   "execution_count": 10,
   "metadata": {},
   "outputs": [],
   "source": [
    "data[2019][\"weighted_avg_shares_basic\"] = 494 * 1e6\n",
    "data[2018][\"weighted_avg_shares_basic\"] = 487 * 1e6\n",
    "data[2017][\"weighted_avg_shares_basic\"] = 480 * 1e6\n",
    "data[2016][\"weighted_avg_shares_basic\"] = 474 * 1e6\n",
    "data[2015][\"weighted_avg_shares_basic\"] = 467 * 1e6"
   ]
  },
  {
   "cell_type": "code",
   "execution_count": 11,
   "metadata": {},
   "outputs": [],
   "source": [
    "data[2019][\"weighted_avg_shares_diluted\"] = 504 * 1e6\n",
    "data[2018][\"weighted_avg_shares_diluted\"] = 500 * 1e6\n",
    "data[2017][\"weighted_avg_shares_diluted\"] = 493 * 1e6\n",
    "data[2016][\"weighted_avg_shares_diluted\"] = 484 * 1e6\n",
    "data[2015][\"weighted_avg_shares_diluted\"] = 477 * 1e6"
   ]
  },
  {
   "cell_type": "code",
   "execution_count": 12,
   "metadata": {},
   "outputs": [],
   "source": [
    "data[2019][\"net_cash_operating\"] = 38514 * 1e6 \n",
    "data[2018][\"net_cash_operating\"] = 30723 * 1e6 \n",
    "data[2017][\"net_cash_operating\"] = 18365 * 1e6 \n",
    "data[2016][\"net_cash_operating\"] = 17203 * 1e6 \n",
    "data[2015][\"net_cash_operating\"] = 11909 * 1e6 "
   ]
  },
  {
   "cell_type": "code",
   "execution_count": 13,
   "metadata": {},
   "outputs": [],
   "source": [
    "data[2019][\"total_assets\"] = 225248 * 1e6 \n",
    "data[2018][\"total_assets\"] = 162648 * 1e6 \n",
    "data[2017][\"total_assets\"] = 131310 * 1e6 \n",
    "data[2016][\"total_assets\"] = 83402 * 1e6 \n",
    "data[2015][\"total_assets\"] = 64747 * 1e6 "
   ]
  },
  {
   "cell_type": "code",
   "execution_count": 14,
   "metadata": {},
   "outputs": [],
   "source": [
    "data[2019][\"long_term_obligations\"] = 75376 * 1e6\n",
    "data[2018][\"long_term_obligations\"] = 50708 * 1e6\n",
    "data[2017][\"long_term_obligations\"] = 45718 * 1e6\n",
    "data[2016][\"long_term_obligations\"] = 20301 * 1e6\n",
    "data[2015][\"long_term_obligations\"] = 17477 * 1e6"
   ]
  },
  {
   "cell_type": "code",
   "execution_count": 15,
   "metadata": {},
   "outputs": [],
   "source": [
    "data[2019][\"net_sales\"] = 280522 * 1e6\n",
    "data[2018][\"net_sales\"] = 232887 * 1e6"
   ]
  },
  {
   "cell_type": "code",
   "execution_count": 16,
   "metadata": {},
   "outputs": [],
   "source": [
    "data[2019][\"sales_growth_percent\"] = 20\n",
    "data[2018][\"sales_growth_percent\"] = 31"
   ]
  },
  {
   "cell_type": "code",
   "execution_count": 17,
   "metadata": {},
   "outputs": [],
   "source": [
    "data[2019][\"operating_expenses\"] = 265981 * 1e6\n",
    "data[2018][\"operating_expenses\"] = 220466 * 1e6"
   ]
  },
  {
   "cell_type": "code",
   "execution_count": 21,
   "metadata": {},
   "outputs": [
    {
     "data": {
      "text/plain": [
       "True"
      ]
     },
     "execution_count": 21,
     "metadata": {},
     "output_type": "execute_result"
    }
   ],
   "source": [
    "data[2019][\"net_sales\"] - data[2019][\"operating_expenses\"] == data[2019][\"operating_income\"]\n",
    "data[2018][\"net_sales\"] - data[2018][\"operating_expenses\"] == data[2018][\"operating_income\"]"
   ]
  },
  {
   "cell_type": "code",
   "execution_count": 22,
   "metadata": {},
   "outputs": [],
   "source": [
    "data[2019][\"cash_beginning\"] = 32173 * 1e6\n",
    "data[2018][\"cash_beginning\"] = 21856 * 1e6\n",
    "data[2017][\"cash_beginning\"] = 19934 * 1e6"
   ]
  },
  {
   "cell_type": "code",
   "execution_count": null,
   "metadata": {},
   "outputs": [],
   "source": []
  }
 ],
 "metadata": {
  "kernelspec": {
   "display_name": "Python 3",
   "language": "python",
   "name": "python3"
  },
  "language_info": {
   "codemirror_mode": {
    "name": "ipython",
    "version": 3
   },
   "file_extension": ".py",
   "mimetype": "text/x-python",
   "name": "python",
   "nbconvert_exporter": "python",
   "pygments_lexer": "ipython3",
   "version": "3.7.4"
  }
 },
 "nbformat": 4,
 "nbformat_minor": 2
}
